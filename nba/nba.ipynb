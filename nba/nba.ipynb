{
 "cells": [
  {
   "cell_type": "markdown",
   "metadata": {},
   "source": [
    "# HoopMetrics\n",
    "\n",
    "This project aims to analyze and visualize NBA player and team performance data to uncover key insights, trends, and patterns within the league. By leveraging data analytics and machine learning techniques, we seek to evaluate player efficiency, predict outcomes, and provide actionable insights for fans, analysts, and decision-makers. The ultimate goal is to turn raw NBA data into meaningful stories and strategic tools."
   ]
  },
  {
   "cell_type": "code",
   "execution_count": null,
   "metadata": {},
   "outputs": [
    {
     "ename": "",
     "evalue": "",
     "output_type": "error",
     "traceback": [
      "\u001b[1;31mFailed to start the Kernel. \n",
      "\u001b[1;31mUnable to start Kernel '.venv (Python 3.12.6)' due to a timeout waiting for the ports to get used. \n",
      "\u001b[1;31mView Jupyter <a href='command:jupyter.viewOutput'>log</a> for further details."
     ]
    }
   ],
   "source": [
    "import pandas as pd\n",
    "from sklearn.ensemble import RandomForestClassifier\n",
    "from sklearn.model_selection import train_test_split\n",
    "from sklearn.metrics import classification_report\n"
   ]
  },
  {
   "cell_type": "code",
   "execution_count": 15,
   "metadata": {},
   "outputs": [],
   "source": [
    "#Endpoints\n",
    "from nba_api.stats.endpoints import leaguedashplayerstats\n",
    "from nba_api.stats.endpoints import leaguedashteamstats\n",
    "\n"
   ]
  },
  {
   "cell_type": "code",
   "execution_count": null,
   "metadata": {},
   "outputs": [],
   "source": [
    "#global variables\n",
    "season = '2023-24'\n",
    "per_mode_detailed = 'PerGame'"
   ]
  },
  {
   "cell_type": "code",
   "execution_count": null,
   "metadata": {},
   "outputs": [],
   "source": [
    "# Fetch per-game stats for the current season\n",
    "player_stats = leaguedashplayerstats.LeagueDashPlayerStats(\n",
    "    season=season,        \n",
    "    per_mode_detailed=per_mode_detailed\n",
    ")\n",
    "\n",
    "# Convert to DataFrame\n",
    "df_players = player_stats.get_data_frames()[0]\n",
    "\n",
    "\n",
    "print(df_players.head())"
   ]
  },
  {
   "cell_type": "code",
   "execution_count": 16,
   "metadata": {},
   "outputs": [
    {
     "name": "stdout",
     "output_type": "stream",
     "text": [
      "           TEAM_NAME   W   L  W_PCT    PTS   AST   REB   TOV  PLUS_MINUS\n",
      "0      Atlanta Hawks  36  46  0.439  118.3  26.6  44.7  13.5        -2.2\n",
      "1     Boston Celtics  64  18  0.780  120.6  26.9  46.3  11.9        11.3\n",
      "2      Brooklyn Nets  32  50  0.390  110.4  25.6  44.1  13.1        -2.9\n",
      "3  Charlotte Hornets  21  61  0.256  106.6  24.8  40.3  13.8       -10.2\n",
      "4      Chicago Bulls  39  43  0.476  112.3  25.0  43.8  12.2        -1.4\n"
     ]
    }
   ],
   "source": [
    "#Fetch team stats for the selected season\n",
    "team_stats = leaguedashteamstats.LeagueDashTeamStats(\n",
    "    season=season,\n",
    "    per_mode_detailed=per_mode_detailed\n",
    ")\n",
    "\n",
    "df_teams = team_stats.get_data_frames()[0]\n",
    "\n",
    "\n",
    "df_teams = df_teams[['TEAM_NAME', 'W', 'L', 'W_PCT', 'PTS', 'AST', 'REB', 'TOV', 'PLUS_MINUS']]\n",
    "print(df_teams.head())"
   ]
  },
  {
   "cell_type": "code",
   "execution_count": 18,
   "metadata": {},
   "outputs": [],
   "source": [
    "playoff_outcomes_2023 = {\n",
    "    'Denver Nuggets': 4,\n",
    "    'Miami Heat': 3,\n",
    "    'Los Angeles Lakers': 2,\n",
    "    'Boston Celtics': 2,\n",
    "    'Milwaukee Bucks': 1,\n",
    "    'Philadelphia 76ers': 1,\n",
    "    'New York Knicks': 1,\n",
    "    'Phoenix Suns': 1,\n",
    "    'Golden State Warriors': 1,\n",
    "    'Sacramento Kings': 1,\n",
    "    'Memphis Grizzlies': 1,\n",
    "    'Cleveland Cavaliers': 1,\n",
    "    'Atlanta Hawks': 0,\n",
    "    'Chicago Bulls': 0,\n",
    "    'Toronto Raptors': 0,\n",
    "    'Brooklyn Nets': 0,\n",
    "    'Minnesota Timberwolves': 0,\n",
    "    'Oklahoma City Thunder': 0,\n",
    "    'New Orleans Pelicans': 0,\n",
    "    'Dallas Mavericks': 0,\n",
    "    'Utah Jazz': 0,\n",
    "    'Portland Trail Blazers': 0,\n",
    "    'Houston Rockets': 0,\n",
    "    'San Antonio Spurs': 0,\n",
    "    'Orlando Magic': 0,\n",
    "    'Indiana Pacers': 0,\n",
    "    'Washington Wizards': 0,\n",
    "    'Charlotte Hornets': 0,\n",
    "    'Detroit Pistons': 0\n",
    "}\n"
   ]
  },
  {
   "cell_type": "code",
   "execution_count": 19,
   "metadata": {},
   "outputs": [],
   "source": [
    "df_teams['PLAYOFF_OUTCOME'] = df_teams['TEAM_NAME'].map(playoff_outcomes_2023)\n",
    "\n",
    "# Drop teams with no label (just in case)\n",
    "df_teams.dropna(subset=['PLAYOFF_OUTCOME'], inplace=True)\n",
    "\n",
    "df_teams['PLAYOFF_OUTCOME'] = df_teams['PLAYOFF_OUTCOME'].astype(int)"
   ]
  },
  {
   "cell_type": "code",
   "execution_count": null,
   "metadata": {},
   "outputs": [],
   "source": []
  }
 ],
 "metadata": {
  "kernelspec": {
   "display_name": ".venv",
   "language": "python",
   "name": "python3"
  },
  "language_info": {
   "codemirror_mode": {
    "name": "ipython",
    "version": 3
   },
   "file_extension": ".py",
   "mimetype": "text/x-python",
   "name": "python",
   "nbconvert_exporter": "python",
   "pygments_lexer": "ipython3",
   "version": "3.12.6"
  }
 },
 "nbformat": 4,
 "nbformat_minor": 2
}
